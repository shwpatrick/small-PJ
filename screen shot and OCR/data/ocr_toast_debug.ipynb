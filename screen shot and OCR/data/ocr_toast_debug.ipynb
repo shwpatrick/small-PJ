{
 "cells": [
  {
   "cell_type": "code",
   "execution_count": 14,
   "id": "e1d3a57d-96eb-4f1c-9750-1de93fcda211",
   "metadata": {},
   "outputs": [
    {
     "name": "stdout",
     "output_type": "stream",
     "text": [
      "開始處理剪貼簿中的圖片...\n"
     ]
    },
    {
     "name": "stderr",
     "output_type": "stream",
     "text": [
      "WNDPROC return value cannot be converted to LRESULT\n"
     ]
    },
    {
     "ename": "TypeError",
     "evalue": "WPARAM is simple, so must be an int object (got NoneType)",
     "output_type": "error",
     "traceback": [
      "\u001b[1;31m---------------------------------------------------------------------------\u001b[0m",
      "\u001b[1;31mTypeError\u001b[0m                                 Traceback (most recent call last)",
      "\u001b[1;31mTypeError\u001b[0m: WPARAM is simple, so must be an int object (got NoneType)"
     ]
    },
    {
     "name": "stdout",
     "output_type": "stream",
     "text": [
      "未發現圖片\n"
     ]
    }
   ],
   "source": [
    "import pytesseract\n",
    "from PIL import ImageGrab\n",
    "import pyperclip\n",
    "from win10toast import ToastNotifier\n",
    "import time\n",
    "\n",
    "# 設定 Tesseract OCR 路徑，請確認路徑正確\n",
    "pytesseract.pytesseract.tesseract_cmd = r\"C:\\Program Files\\Tesseract-OCR\\tesseract.exe\"\n",
    "\n",
    "def notify(title, text):\n",
    "    \"\"\" 顯示側邊欄通知 \"\"\"\n",
    "    toaster = ToastNotifier()\n",
    "    toaster.show_toast(title, text, icon_path=\"OCR_ICON.ico\", duration=10)  # 顯示通知，持續 10 秒\n",
    "\n",
    "def get_image_from_clipboard():\n",
    "    \"\"\" 從剪貼簿中獲取圖片 \"\"\"\n",
    "    image = ImageGrab.grabclipboard()\n",
    "    return image\n",
    "\n",
    "def perform_ocr_on_image(image):\n",
    "    \"\"\" 對圖片進行 OCR 辨識 \"\"\"\n",
    "    text = pytesseract.image_to_string(image, lang=\"chi_tra\")  # 可根據需要調整語言\n",
    "    return text\n",
    "\n",
    "def copy_text_to_clipboard(text):\n",
    "    \"\"\" 將辨識出的文字複製到剪貼簿 \"\"\"\n",
    "    pyperclip.copy(text)\n",
    "\n",
    "def main():\n",
    "    \"\"\" 主程序邏輯 \"\"\"\n",
    "    print(\"開始處理剪貼簿中的圖片...\")\n",
    "    image = get_image_from_clipboard()\n",
    "\n",
    "    if image is None:\n",
    "        notify(\"錯誤\", \"剪貼簿中未發現圖片！\")\n",
    "        print(\"未發現圖片\")\n",
    "        return\n",
    "\n",
    "    print(\"圖片獲取成功，開始進行 OCR 辨識...\")\n",
    "    text = perform_ocr_on_image(image)\n",
    "\n",
    "    if text.strip():  # 檢查是否有辨識到文字\n",
    "        print(f\"OCR 辨識結果:\\n{text}\")\n",
    "        copy_text_to_clipboard(text)  # 將文字複製到剪貼簿\n",
    "        notify(\"OCR 完成\", \"已將辨識內容儲存至剪貼簿！\")\n",
    "    else:\n",
    "        notify(\"OCR 失敗\", \"未能辨識出任何文字，請重試。\")\n",
    "        print(\"未能辨識出任何文字\")\n",
    "\n",
    "if __name__ == \"__main__\":\n",
    "    main()"
   ]
  },
  {
   "cell_type": "code",
   "execution_count": null,
   "id": "ec1ff153-68cd-4213-852f-83d78e25b8f9",
   "metadata": {},
   "outputs": [],
   "source": []
  }
 ],
 "metadata": {
  "kernelspec": {
   "display_name": "Python (Real E)",
   "language": "python",
   "name": "python3"
  },
  "language_info": {
   "codemirror_mode": {
    "name": "ipython",
    "version": 3
   },
   "file_extension": ".py",
   "mimetype": "text/x-python",
   "name": "python",
   "nbconvert_exporter": "python",
   "pygments_lexer": "ipython3",
   "version": "3.10.16"
  }
 },
 "nbformat": 4,
 "nbformat_minor": 5
}
