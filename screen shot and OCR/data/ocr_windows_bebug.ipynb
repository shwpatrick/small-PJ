{
 "cells": [
  {
   "cell_type": "code",
   "execution_count": 7,
   "id": "80bc2633-c965-4eb2-b7b5-a3af85992c96",
   "metadata": {},
   "outputs": [
    {
     "name": "stdout",
     "output_type": "stream",
     "text": [
      "開始處理剪貼簿中的圖片...\n",
      "圖片獲取成功，開始進行 OCR 辨識...\n",
      "OCR 辨識結果:\n",
      "RAMS TEAS  BakALA Baws RUT aha\n",
      "\n",
      "\n"
     ]
    }
   ],
   "source": [
    "import pytesseract\n",
    "from PIL import ImageGrab\n",
    "import pyperclip\n",
    "import ctypes\n",
    "import time\n",
    "\n",
    "# 設定 Tesseract OCR 路徑，請確認路徑正確\n",
    "pytesseract.pytesseract.tesseract_cmd = r\"C:\\Program Files\\Tesseract-OCR\\tesseract.exe\"\n",
    "\n",
    "def notify(title, text):\n",
    "    \"\"\" 顯示通知 \"\"\"\n",
    "    ctypes.windll.user32.MessageBoxW(0, text, title, 1)\n",
    "\n",
    "def get_image_from_clipboard():\n",
    "    \"\"\" 從剪貼簿中獲取圖片 \"\"\"\n",
    "    image = ImageGrab.grabclipboard()\n",
    "    return image\n",
    "\n",
    "def perform_ocr_on_image(image):\n",
    "    \"\"\" 對圖片進行 OCR 辨識 \"\"\"\n",
    "    text = pytesseract.image_to_string(image, lang=\"chi_tra+eng\")  # 可根據需要調整語言\n",
    "    return text\n",
    "\n",
    "def copy_text_to_clipboard(text):\n",
    "    \"\"\" 將辨識出的文字複製到剪貼簿 \"\"\"\n",
    "    pyperclip.copy(text)\n",
    "\n",
    "def main():\n",
    "    \"\"\" 主程序邏輯 \"\"\"\n",
    "    print(\"開始處理剪貼簿中的圖片...\")\n",
    "    image = get_image_from_clipboard()\n",
    "\n",
    "    if image is None:\n",
    "        notify(\"錯誤\", \"剪貼簿中未發現圖片！\")\n",
    "        print(\"未發現圖片\")\n",
    "        return\n",
    "\n",
    "    print(\"圖片獲取成功，開始進行 OCR 辨識...\")\n",
    "    text = perform_ocr_on_image(image)\n",
    "\n",
    "    if text.strip():  # 檢查是否有辨識到文字\n",
    "        print(f\"OCR 辨識結果:\\n{text}\")\n",
    "        copy_text_to_clipboard(text)  # 將文字複製到剪貼簿\n",
    "        notify(\"OCR 完成\", \"已將辨識內容儲存至剪貼簿！\")\n",
    "    else:\n",
    "        notify(\"OCR 失敗\", \"未能辨識出任何文字，請重試。\")\n",
    "        print(\"未能辨識出任何文字\")\n",
    "\n",
    "if __name__ == \"__main__\":\n",
    "    main()"
   ]
  },
  {
   "cell_type": "code",
   "execution_count": null,
   "id": "bea12f46-89f5-4f81-8310-5836978b399d",
   "metadata": {},
   "outputs": [],
   "source": []
  },
  {
   "cell_type": "code",
   "execution_count": 4,
   "id": "abf1f4e9-5538-4942-9c6f-d7842b8784cd",
   "metadata": {},
   "outputs": [
    {
     "name": "stderr",
     "output_type": "stream",
     "text": [
      "WNDPROC return value cannot be converted to LRESULT\n"
     ]
    },
    {
     "ename": "TypeError",
     "evalue": "WPARAM is simple, so must be an int object (got NoneType)",
     "output_type": "error",
     "traceback": [
      "\u001b[1;31m---------------------------------------------------------------------------\u001b[0m",
      "\u001b[1;31mTypeError\u001b[0m                                 Traceback (most recent call last)",
      "\u001b[1;31mTypeError\u001b[0m: WPARAM is simple, so must be an int object (got NoneType)"
     ]
    }
   ],
   "source": [
    "from win10toast import ToastNotifier\n",
    "import pyperclip\n",
    "import pytesseract\n",
    "from PIL import ImageGrab\n",
    "\n",
    "# 初始化通知\n",
    "toaster = ToastNotifier()\n",
    "\n",
    "def ocr_process_and_notify():\n",
    "    # 嘗試從剪貼簿抓取圖片\n",
    "    try:\n",
    "        image = ImageGrab.grabclipboard()\n",
    "        \n",
    "        if image is not None:\n",
    "            # 使用 pytesseract 執行 OCR\n",
    "            ocr_text = pytesseract.image_to_string(image)\n",
    "            \n",
    "            # 顯示 OCR 成功通知\n",
    "            toaster.show_toast(\"OCR 轉換成功\", \"已儲存至剪貼簿\", duration=5)\n",
    "            \n",
    "            # 儲存結果到剪貼簿\n",
    "            pyperclip.copy(ocr_text)\n",
    "        else:\n",
    "            # 顯示未發現圖片的通知\n",
    "            toaster.show_toast(\"未發現圖片\", \"剪貼簿中沒有可用的圖片\", duration=5)\n",
    "\n",
    "    except Exception as e:\n",
    "        # 顯示錯誤通知\n",
    "        toaster.show_toast(\"錯誤\", f\"發生錯誤: {str(e)}\", duration=5)\n",
    "\n",
    "# 直接呼叫函式來進行 OCR 處理和通知\n",
    "ocr_process_and_notify()\n"
   ]
  },
  {
   "cell_type": "code",
   "execution_count": null,
   "id": "d6f7e921-157c-4636-8a33-4517a540f983",
   "metadata": {},
   "outputs": [],
   "source": []
  }
 ],
 "metadata": {
  "kernelspec": {
   "display_name": "Python (Real E)",
   "language": "python",
   "name": "python3"
  },
  "language_info": {
   "codemirror_mode": {
    "name": "ipython",
    "version": 3
   },
   "file_extension": ".py",
   "mimetype": "text/x-python",
   "name": "python",
   "nbconvert_exporter": "python",
   "pygments_lexer": "ipython3",
   "version": "3.10.16"
  }
 },
 "nbformat": 4,
 "nbformat_minor": 5
}
